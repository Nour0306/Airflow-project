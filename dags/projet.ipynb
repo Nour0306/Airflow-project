{
 "cells": [
  {
   "cell_type": "code",
   "execution_count": 21,
   "metadata": {},
   "outputs": [],
   "source": [
    "import requests\n",
    "import pymongo\n",
    "from datetime import datetime"
   ]
  },
  {
   "cell_type": "code",
   "execution_count": 2,
   "metadata": {},
   "outputs": [
    {
     "data": {
      "text/plain": [
       "[{'symbol': 'AAPL',\n",
       "  'price': 148.48,\n",
       "  'beta': 1.277894,\n",
       "  'volAvg': 75440123,\n",
       "  'mktCap': 2349235678740,\n",
       "  'lastDiv': 0.91,\n",
       "  'range': '124.17-179.61',\n",
       "  'changes': -4.07,\n",
       "  'companyName': 'Apple Inc.',\n",
       "  'currency': 'USD',\n",
       "  'cik': '0000320193',\n",
       "  'isin': 'US0378331005',\n",
       "  'cusip': '037833100',\n",
       "  'exchange': 'NASDAQ Global Select',\n",
       "  'exchangeShortName': 'NASDAQ',\n",
       "  'industry': 'Consumer Electronics',\n",
       "  'website': 'https://www.apple.com',\n",
       "  'description': 'Apple Inc. designs, manufactures, and markets smartphones, personal computers, tablets, wearables, and accessories worldwide. It also sells various related services. In addition, the company offers iPhone, a line of smartphones; Mac, a line of personal computers; iPad, a line of multi-purpose tablets; AirPods Max, an over-ear wireless headphone; and wearables, home, and accessories comprising AirPods, Apple TV, Apple Watch, Beats products, HomePod, and iPod touch. Further, it provides AppleCare support services; cloud services store services; and operates various platforms, including the App Store that allow customers to discover and download applications and digital content, such as books, music, video, games, and podcasts. Additionally, the company offers various services, such as Apple Arcade, a game subscription service; Apple Music, which offers users a curated listening experience with on-demand radio stations; Apple News+, a subscription news and magazine service; Apple TV+, which offers exclusive original content; Apple Card, a co-branded credit card; and Apple Pay, a cashless payment service, as well as licenses its intellectual property. The company serves consumers, and small and mid-sized businesses; and the education, enterprise, and government markets. It distributes third-party applications for its products through the App Store. The company also sells its products through its retail and online stores, and direct sales force; and third-party cellular network carriers, wholesalers, retailers, and resellers. Apple Inc. was incorporated in 1977 and is headquartered in Cupertino, California.',\n",
       "  'ceo': 'Mr. Timothy D. Cook',\n",
       "  'sector': 'Technology',\n",
       "  'country': 'US',\n",
       "  'fullTimeEmployees': '164000',\n",
       "  'phone': '408 996 1010',\n",
       "  'address': 'One Apple Park Way',\n",
       "  'city': 'Cupertino',\n",
       "  'state': 'CA',\n",
       "  'zip': '95014',\n",
       "  'dcfDiff': 4.15176,\n",
       "  'dcf': 150.082,\n",
       "  'image': 'https://financialmodelingprep.com/image-stock/AAPL.png',\n",
       "  'ipoDate': '1980-12-12',\n",
       "  'defaultImage': False,\n",
       "  'isEtf': False,\n",
       "  'isActivelyTrading': True,\n",
       "  'isAdr': False,\n",
       "  'isFund': False}]"
      ]
     },
     "execution_count": 2,
     "metadata": {},
     "output_type": "execute_result"
    }
   ],
   "source": [
    "url_profile = 'https://financialmodelingprep.com/api/v3/profile/AAPL?apikey=fe72549f17263ca8f71ab7e3b997c502'\n",
    "response_profile = requests.get(url_profile)\n",
    "data1 = response_profile.json()\n",
    "data1\n"
   ]
  },
  {
   "cell_type": "code",
   "execution_count": 5,
   "metadata": {},
   "outputs": [
    {
     "data": {
      "text/plain": [
       "{'profile': {'beta': 1.277894,\n",
       "  'ceo': 'Mr. Timothy D. Cook',\n",
       "  'changes': -4.07,\n",
       "  'companyName': 'Apple Inc.',\n",
       "  'exchange': 'NASDAQ Global Select',\n",
       "  'image': 'https://financialmodelingprep.com/image-stock/AAPL.png',\n",
       "  'industry': 'Consumer Electronics',\n",
       "  'lastDiv': 0.91,\n",
       "  'mktCap': 2349235678740,\n",
       "  'price': 148.48,\n",
       "  'range': '124.17-179.61',\n",
       "  'sector': 'Technology',\n",
       "  'volAvg': 75440123,\n",
       "  'website': 'https://www.apple.com',\n",
       "  'symbol': 'AAPL'}}"
      ]
     },
     "execution_count": 5,
     "metadata": {},
     "output_type": "execute_result"
    }
   ],
   "source": [
    "new_data1 = {\n",
    "    'profile': {\n",
    "        'beta': data1[0]['beta'],\n",
    "        'ceo': data1[0]['ceo'],\n",
    "        'changes': data1[0]['changes'],\n",
    "        'companyName': data1[0]['companyName'],\n",
    "        'exchange': data1[0]['exchange'],\n",
    "        'image': data1[0]['image'],\n",
    "        'industry': data1[0]['industry'],\n",
    "        'lastDiv': data1[0]['lastDiv'],\n",
    "        'mktCap': data1[0]['mktCap'],\n",
    "        'price': data1[0]['price'],\n",
    "        'range': data1[0]['range'],\n",
    "        'sector': data1[0]['sector'],\n",
    "        'volAvg': data1[0]['volAvg'],\n",
    "        'website': data1[0]['website'],\n",
    "        'symbol': data1[0]['symbol']\n",
    "    }}\n",
    "    \n",
    "new_data1"
   ]
  },
  {
   "cell_type": "code",
   "execution_count": 13,
   "metadata": {},
   "outputs": [
    {
     "data": {
      "text/plain": [
       "{'symbol': 'AAPL',\n",
       " 'date': '2023-02-17',\n",
       " 'rating': 'S',\n",
       " 'ratingScore': 5,\n",
       " 'ratingRecommendation': 'Strong Buy',\n",
       " 'ratingDetailsDCFScore': 5,\n",
       " 'ratingDetailsDCFRecommendation': 'Strong Buy',\n",
       " 'ratingDetailsROEScore': 5,\n",
       " 'ratingDetailsROERecommendation': 'Strong Buy',\n",
       " 'ratingDetailsROAScore': 3,\n",
       " 'ratingDetailsROARecommendation': 'Neutral',\n",
       " 'ratingDetailsDEScore': 5,\n",
       " 'ratingDetailsDERecommendation': 'Strong Buy',\n",
       " 'ratingDetailsPEScore': 5,\n",
       " 'ratingDetailsPERecommendation': 'Strong Buy',\n",
       " 'ratingDetailsPBScore': 5,\n",
       " 'ratingDetailsPBRecommendation': 'Strong Buy'}"
      ]
     },
     "execution_count": 13,
     "metadata": {},
     "output_type": "execute_result"
    }
   ],
   "source": [
    "url_rating = 'https://financialmodelingprep.com/api/v3/rating/AAPL?apikey=fe72549f17263ca8f71ab7e3b997c502'\n",
    "# GET request to the API\n",
    "response_rating = requests.get(url_rating)\n",
    "data2 = response_rating.json()[0]\n",
    "data2\n"
   ]
  },
  {
   "cell_type": "code",
   "execution_count": 18,
   "metadata": {},
   "outputs": [
    {
     "data": {
      "text/plain": [
       "{'rating': {'rating': 'S',\n",
       "  'ratingDetails': {'D/E': {'recommendation': 'Strong Buy', 'score': 5},\n",
       "   'DCF': {'recommendation': 'Strong Buy', 'score': 5},\n",
       "   'P/B': {'recommendation': 'Strong Buy', 'score': 5},\n",
       "   'P/E': {'recommendation': 'Strong Buy', 'score': 5},\n",
       "   'ROA': {'recommendation': 'Neutral', 'score': 3},\n",
       "   'ROE': {'recommendation': 'Strong Buy', 'score': 5}},\n",
       "  'symbol': 'AAPL'}}"
      ]
     },
     "execution_count": 18,
     "metadata": {},
     "output_type": "execute_result"
    }
   ],
   "source": [
    "new_data2 = {\n",
    "    'rating': {\n",
    "    'rating': data2['rating'],\n",
    "    'ratingDetails': {\n",
    "        'D/E': {\n",
    "            'recommendation': data2['ratingDetailsDCFRecommendation'],\n",
    "            'score': data2['ratingDetailsDCFScore']\n",
    "        },\n",
    "        'DCF': {\n",
    "            'recommendation': data2['ratingDetailsDCFRecommendation'],\n",
    "            'score': data2['ratingDetailsDCFScore']\n",
    "        },\n",
    "        'P/B': {\n",
    "            'recommendation': data2['ratingDetailsPBRecommendation'],\n",
    "            'score': data2['ratingDetailsPBScore']\n",
    "        },\n",
    "        'P/E': {\n",
    "            'recommendation': data2['ratingDetailsPERecommendation'],\n",
    "            'score': data2['ratingDetailsPEScore']\n",
    "        },\n",
    "        'ROA': {\n",
    "            'recommendation': data2['ratingDetailsROARecommendation'],\n",
    "            'score': data2['ratingDetailsROAScore']\n",
    "        },\n",
    "        'ROE': {\n",
    "            'recommendation': data2['ratingDetailsROERecommendation'],\n",
    "            'score': data2['ratingDetailsROEScore']\n",
    "        }\n",
    "    },\n",
    "    'symbol': data2['symbol']\n",
    "}}\n",
    "\n",
    "new_data2"
   ]
  },
  {
   "cell_type": "code",
   "execution_count": 22,
   "metadata": {},
   "outputs": [
    {
     "name": "stdout",
     "output_type": "stream",
     "text": [
      "{'rating': {'rating': {'rating': 'S', 'ratingDetails': {'D/E': {'recommendation': 'Strong Buy', 'score': 5}, 'DCF': {'recommendation': 'Strong Buy', 'score': 5}, 'P/B': {'recommendation': 'Strong Buy', 'score': 5}, 'P/E': {'recommendation': 'Strong Buy', 'score': 5}, 'ROA': {'recommendation': 'Neutral', 'score': 3}, 'ROE': {'recommendation': 'Strong Buy', 'score': 5}}, 'symbol': 'AAPL'}}, 'profile': {'profile': {'beta': 1.277894, 'ceo': 'Mr. Timothy D. Cook', 'changes': -4.07, 'companyName': 'Apple Inc.', 'exchange': 'NASDAQ Global Select', 'image': 'https://financialmodelingprep.com/image-stock/AAPL.png', 'industry': 'Consumer Electronics', 'lastDiv': 0.91, 'mktCap': 2349235678740, 'price': 148.48, 'range': '124.17-179.61', 'sector': 'Technology', 'volAvg': 75440123, 'website': 'https://www.apple.com', 'symbol': 'AAPL'}}, 'timestamp': datetime.datetime(2023, 2, 22, 15, 17, 47, 75032)}\n"
     ]
    }
   ],
   "source": [
    "data_final = {\n",
    "    'rating': new_data2,\n",
    "    'profile': new_data1,\n",
    "    'timestamp': datetime.now()\n",
    "}\n",
    "\n",
    "# Print the dictionary\n",
    "print(data_final)"
   ]
  },
  {
   "cell_type": "code",
   "execution_count": 1,
   "metadata": {},
   "outputs": [
    {
     "ename": "NameError",
     "evalue": "name 'pymongo' is not defined",
     "output_type": "error",
     "traceback": [
      "\u001b[1;31m---------------------------------------------------------------------------\u001b[0m",
      "\u001b[1;31mNameError\u001b[0m                                 Traceback (most recent call last)",
      "Cell \u001b[1;32mIn[1], line 1\u001b[0m\n\u001b[1;32m----> 1\u001b[0m client \u001b[39m=\u001b[39m pymongo\u001b[39m.\u001b[39mMongoClient(\u001b[39m\"\u001b[39m\u001b[39mhttp://localhost:27017/\u001b[39m\u001b[39m\"\u001b[39m)\n\u001b[0;32m      2\u001b[0m mydb \u001b[39m=\u001b[39m client[\u001b[39m\"\u001b[39m\u001b[39mmydatabase\u001b[39m\u001b[39m\"\u001b[39m]\n\u001b[0;32m      3\u001b[0m mycol \u001b[39m=\u001b[39m mydb[\u001b[39m\"\u001b[39m\u001b[39mstocks\u001b[39m\u001b[39m\"\u001b[39m]\n",
      "\u001b[1;31mNameError\u001b[0m: name 'pymongo' is not defined"
     ]
    }
   ],
   "source": [
    "client = pymongo.MongoClient(\"mongodb://mongodb:27017/\")\n",
    "mydb = client[\"mydatabase\"]\n",
    "mycol = mydb[\"stocks\"]\n",
    "\n",
    "#Insertion\n",
    "x = mycol.insert_one(data_final)"
   ]
  },
  {
   "cell_type": "code",
   "execution_count": null,
   "metadata": {},
   "outputs": [],
   "source": []
  }
 ],
 "metadata": {
  "kernelspec": {
   "display_name": "Python 3",
   "language": "python",
   "name": "python3"
  },
  "language_info": {
   "codemirror_mode": {
    "name": "ipython",
    "version": 3
   },
   "file_extension": ".py",
   "mimetype": "text/x-python",
   "name": "python",
   "nbconvert_exporter": "python",
   "pygments_lexer": "ipython3",
   "version": "3.9.1 (tags/v3.9.1:1e5d33e, Dec  7 2020, 17:08:21) [MSC v.1927 64 bit (AMD64)]"
  },
  "orig_nbformat": 4,
  "vscode": {
   "interpreter": {
    "hash": "11938c6bc6919ae2720b4d5011047913343b08a43b18698fd82dedb0d4417594"
   }
  }
 },
 "nbformat": 4,
 "nbformat_minor": 2
}
